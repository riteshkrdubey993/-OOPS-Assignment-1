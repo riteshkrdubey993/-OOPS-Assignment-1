{
 "cells": [
  {
   "cell_type": "markdown",
   "id": "42522f56-74df-424d-b0bb-fa8760aaf0fb",
   "metadata": {},
   "source": [
    "# Q1. Explain Class and Object with respect to Object-Oriented Programming. Give a suitable example."
   ]
  },
  {
   "cell_type": "markdown",
   "id": "895760e5-0993-4b3e-a0d9-a1e63c3e12c6",
   "metadata": {},
   "source": [
    "Class: A class is a blueprint or a template for creating objects. It defines a set of attributes (properties) and methods (functions) that characterize any object created from the class. In simpler terms, a class is a user-defined data type that encapsulates data and behavior."
   ]
  },
  {
   "cell_type": "code",
   "execution_count": 10,
   "id": "bbf207ae-51bd-4120-bdbd-65ce57ea58e4",
   "metadata": {},
   "outputs": [
    {
     "name": "stdout",
     "output_type": "stream",
     "text": [
      "Buddy is 3 years old.\n",
      "Buddy says Woof!\n"
     ]
    }
   ],
   "source": [
    "class Dog:\n",
    "    def __init__(self, name, age):\n",
    "        self.name = name\n",
    "        self.age = age\n",
    "\n",
    "    def bark(self):\n",
    "        print(f\"{self.name} says Woof!\")\n",
    "\n",
    "# Creating an instance of the Dog class\n",
    "my_dog = Dog(name=\"Buddy\", age=3)\n",
    "\n",
    "# Accessing attributes and calling a method\n",
    "print(f\"{my_dog.name} is {my_dog.age} years old.\")\n",
    "my_dog.bark()"
   ]
  },
  {
   "cell_type": "markdown",
   "id": "2f22cdeb-453c-4dfa-b25e-6c38243517a0",
   "metadata": {},
   "source": [
    "In this example, Dog is a class that defines attributes (name and age) and a method (bark). The class is a blueprint for creating dog objects. The my_dog instance is an object created from the Dog class, and it has specific attributes and behaviors defined by the class.\n",
    "\n",
    "Object:An object is an instance of a class. It is a concrete realization of the attributes and methods defined by the class. Objects are created from classes and represent specific instances of the class's blueprint."
   ]
  },
  {
   "cell_type": "code",
   "execution_count": 16,
   "id": "74a95a8c-abd7-46eb-bbcf-d2eb99ff68fc",
   "metadata": {},
   "outputs": [
    {
     "name": "stdout",
     "output_type": "stream",
     "text": [
      "My car is a 2022 Toyota Camry.\n",
      "The 2022 Toyota Camry's engine is running.\n",
      "Another car is a 2023 Honda Civic.\n",
      "The 2023 Honda Civic's engine is running.\n"
     ]
    }
   ],
   "source": [
    "class car:\n",
    "    def __init__(self,make, model,year):\n",
    "        self.make = make\n",
    "        self.model = model\n",
    "        self.year = year\n",
    "    \n",
    "    def start_engine(self):\n",
    "        print(f\"The {self.year} {self.make} {self.model}'s engine is running.\")\n",
    "    \n",
    "my_car = car(make=\"Toyota\", model=\"Camry\", year=2022)\n",
    "another_car = car(make=\"Honda\", model=\"Civic\", year=2023)\n",
    "\n",
    "print(f\"My car is a {my_car.year} {my_car.make} {my_car.model}.\")\n",
    "my_car.start_engine()\n",
    "\n",
    "print(f\"Another car is a {another_car.year} {another_car.make} {another_car.model}.\")\n",
    "another_car.start_engine()"
   ]
  },
  {
   "cell_type": "markdown",
   "id": "5464960c-9ef4-4064-9b87-2a2686dd01c8",
   "metadata": {},
   "source": [
    "In this example, Car is a class that defines attributes (make, model, and year) and a method (start_engine). The my_car and another_car objects are instances of the Car class, each representing a specific car with its own set of attributes."
   ]
  },
  {
   "cell_type": "markdown",
   "id": "8b2482d9-b9c2-4b33-acab-fbd7c9e03b7f",
   "metadata": {},
   "source": [
    "# Q2. Name the four pillars of OOPs."
   ]
  },
  {
   "cell_type": "markdown",
   "id": "e92ca787-3e55-4d5f-8215-0534eb3d3bd7",
   "metadata": {},
   "source": [
    "\n",
    "The four pillars of Object-Oriented Programming (OOP) are:\n",
    "\n",
    "## Encapsulation:\n",
    "Encapsulation is the bundling of data (attributes) and the methods (functions) that operate on the data into a single unit known as a class. It restricts direct access to some of the object's components and can prevent unintended interference.Encapsulation helps in data hiding and reduces the complexity of the code by keeping related functionality and data together.\n",
    "\n",
    "## Abstraction:\n",
    "Abstraction is the process of simplifying complex systems by modeling classes based on the essential properties and behaviors they share. It involves defining a clear interface for a class while hiding the implementation details.Abstraction allows developers to focus on what an object does rather than how it achieves its functionality. It promotes the creation of well-defined, modular, and reusable code.\n",
    "\n",
    "## Inheritance:\n",
    "Inheritance is a mechanism that allows a new class (subclass or derived class) to inherit the properties and behaviors of an existing class (base class or superclass). It supports the creation of a hierarchy of classes.Inheritance promotes code reuse, extensibility, and the creation of a logical hierarchy among classes. Subclasses inherit attributes and methods from their parent classes and can override or extend them.\n",
    "\n",
    "## Polymorphism:\n",
    "Polymorphism allows objects of different classes to be treated as objects of a common base class. It enables a single interface to represent different types of objects, and it can take various forms, such as method overloading and method overriding.Polymorphism simplifies code by allowing the use of a common interface to interact with different types of objects. It enhances flexibility and enables the creation of more generic and reusable code."
   ]
  },
  {
   "cell_type": "markdown",
   "id": "9239d4e8-77a8-4d3d-9735-0bb3689a7f37",
   "metadata": {},
   "source": [
    "# Q3. Explain why the __init__() function is used. Give a suitable example."
   ]
  },
  {
   "cell_type": "markdown",
   "id": "cc6df9fc-aaee-4742-80b5-abff700e8f1e",
   "metadata": {},
   "source": [
    "\n",
    "In Python, the __init__ function (commonly pronounced as \"dunder init\" or \"double underscore init\") is a special method that is automatically called when an object of a class is created. The primary purpose of the __init__ method is to initialize the attributes of the object, providing them with default values or values provided by the user during the object's instantiation.\n",
    "\n",
    "Here's why the __init__ function is used:\n",
    "\n",
    "1. Initialization of Attributes:The __init__ method is used to initialize the attributes of an object with specific values. These attributes represent the state of the object, and initializing them in the __init__ method ensures that the object starts with a well-defined state.\n",
    "2. Parameterized Construction: The __init__ method allows the class to accept parameters during object creation. These parameters can be used to customize the initial state of the object. This makes the class more versatile and adaptable to different use cases.\n",
    "3. Encapsulation: By initializing attributes within the __init__ method, you encapsulate the initialization logic within the class itself. This encapsulation helps in organizing code, making it more modular and maintainable.\n",
    "4. Implicit Invocation: The __init__ method is implicitly invoked when an object is created. This ensures that the initialization logic is automatically executed whenever a new instance of the class is instantiated."
   ]
  },
  {
   "cell_type": "code",
   "execution_count": 17,
   "id": "357cb315-ecb8-429a-a2cb-778746308558",
   "metadata": {},
   "outputs": [
    {
     "name": "stdout",
     "output_type": "stream",
     "text": [
      "Buddy is 3 years old.\n",
      "Buddy says Woof!\n",
      "Max is 2 years old.\n",
      "Max says Woof!\n"
     ]
    }
   ],
   "source": [
    "class Dog:\n",
    "    def __init__(self, name, age):\n",
    "        # Attributes\n",
    "        self.name = name\n",
    "        self.age = age\n",
    "\n",
    "    def bark(self):\n",
    "        print(f\"{self.name} says Woof!\")\n",
    "\n",
    "# Creating instances of the Dog class\n",
    "dog1 = Dog(name=\"Buddy\", age=3)\n",
    "dog2 = Dog(name=\"Max\", age=2)\n",
    "\n",
    "# Accessing attributes and calling methods\n",
    "print(f\"{dog1.name} is {dog1.age} years old.\")\n",
    "dog1.bark()\n",
    "\n",
    "print(f\"{dog2.name} is {dog2.age} years old.\")\n",
    "dog2.bark()\n"
   ]
  },
  {
   "cell_type": "markdown",
   "id": "9a76c89c-444a-4992-95a8-177c1d96f825",
   "metadata": {},
   "source": [
    "In this example, the __init__ method initializes the name and age attributes of each Dog object. When dog1 and dog2 are created, the __init__ method is automatically invoked with the specified values, setting up the initial state of each dog object."
   ]
  },
  {
   "cell_type": "markdown",
   "id": "1b072b5b-1097-48a9-98e4-29e2ab581545",
   "metadata": {},
   "source": [
    "# Q4. Why self is used in OOPs?"
   ]
  },
  {
   "cell_type": "markdown",
   "id": "688ce4ef-0be7-40c6-8a78-48cb2f8c54b1",
   "metadata": {},
   "source": [
    "\n",
    "In Object-Oriented Programming (OOP), self is a convention used to represent the instance of the class, particularly in Python. It is the first parameter of instance methods, including the special method __init__. The use of self is crucial for maintaining and accessing the attributes and methods associated with a specific instance of a class. Here's why self is used in OOP:\n",
    "\n",
    "1. Instance Specificity: self refers to the specific instance of the class on which a method is invoked. This allows different instances of the same class to have their own unique state (attributes) and behavior (methods).\n",
    "2. Attribute Access:Within instance methods, self is used to access and modify attributes of the object. It distinguishes between instance variables (belonging to the object) and local variables (temporary variables within the method).\n",
    "3. Method Invocation:When a method is called on an object, self is implicitly passed as the first parameter to the method. This enables the method to operate on the specific instance that invoked it.\n",
    "4. Instance Creation: During the instantiation of an object, the self parameter in the __init__ method is used to refer to the newly created instance. This allows the initialization of instance-specific attributes."
   ]
  },
  {
   "cell_type": "markdown",
   "id": "a8b28cda-cdd6-470e-904c-b4829ea58ef9",
   "metadata": {},
   "source": [
    "# Q5. What is inheritance? Give an example for each type of inheritance."
   ]
  },
  {
   "cell_type": "markdown",
   "id": "e69a9757-13d7-45ef-9054-f759e90e4aaa",
   "metadata": {},
   "source": [
    "Inheritance is a fundamental concept in Object-Oriented Programming (OOP) that allows a new class to inherit attributes and methods from an existing class. The existing class is referred to as the base class, parent class, or superclass, while the new class is called the derived class or subclass. Inheritance promotes code reuse, extensibility, and the creation of a logical hierarchy among classes.\n",
    "\n",
    "There are different types of inheritance, each demonstrating a specific relationship between the base and derived classes. The main types of inheritance are:\n",
    "\n",
    "1. Single Inheritance: In single inheritance, a derived class inherits from only one base class."
   ]
  },
  {
   "cell_type": "code",
   "execution_count": 24,
   "id": "bd53d72e-fb2b-4c0d-8eb5-60b7ebda2aa3",
   "metadata": {},
   "outputs": [
    {
     "name": "stdout",
     "output_type": "stream",
     "text": [
      "Animal Speaks\n",
      "Dog Barks\n"
     ]
    }
   ],
   "source": [
    "class animal:\n",
    "    def speak(self):\n",
    "        print('Animal Speaks')\n",
    "    \n",
    "class dog(animal):\n",
    "    def bark(self):\n",
    "        print('Dog Barks')\n",
    "        \n",
    "# Creating an instance of the Dog class        \n",
    "my_dog = dog()\n",
    "my_dog.speak()  # Inherited from Animal\n",
    "my_dog.bark()   # Defined in Dog"
   ]
  },
  {
   "cell_type": "markdown",
   "id": "1f0676d3-6bfe-488c-8ffc-a9783a003a12",
   "metadata": {},
   "source": [
    "2. Multiple Inheritance: In multiple inheritance, a derived class can inherit from more than one base class."
   ]
  },
  {
   "cell_type": "code",
   "execution_count": 28,
   "id": "48f04e15-5823-409e-a09d-40f0a83bbd3d",
   "metadata": {},
   "outputs": [
    {
     "name": "stdout",
     "output_type": "stream",
     "text": [
      "Can Fly\n",
      "Can Swim\n"
     ]
    }
   ],
   "source": [
    "class flyable:\n",
    "    def fly(self):\n",
    "        print('Can Fly')\n",
    "\n",
    "class swimable:\n",
    "    def swim(self):\n",
    "        print('Can Swim')\n",
    "\n",
    "class flyingfish(flyable, swimable):\n",
    "    pass\n",
    "    \n",
    "nemo = flyingfish()\n",
    "nemo.fly()\n",
    "nemo.swim()"
   ]
  },
  {
   "cell_type": "markdown",
   "id": "73ca3dab-d3ed-4322-8709-e966ef70c952",
   "metadata": {},
   "source": [
    "3. Multilevel Inheritance: In multilevel inheritance, a derived class becomes the base class for another class."
   ]
  },
  {
   "cell_type": "code",
   "execution_count": null,
   "id": "53477b7e-6b48-4877-b9b3-528d25fefd0f",
   "metadata": {},
   "outputs": [],
   "source": [
    "class animal:\n",
    "    def speak(self):\n",
    "        print('Animal speaks')\n",
    "        \n",
    "class mammal(animal):\n",
    "    def feed_milk(self):\n",
    "        print('Mammal feeds milk')\n",
    "        \n",
    "class dog(mammal):\n",
    "    def bark(self):\n",
    "        print('dogs bark')\n",
    "\n",
    "my_dog = dog()\n",
    "my_"
   ]
  },
  {
   "cell_type": "code",
   "execution_count": 29,
   "id": "3ba4a0b4-0037-4f0e-bae0-cd2bcbd3db9e",
   "metadata": {},
   "outputs": [
    {
     "name": "stdout",
     "output_type": "stream",
     "text": [
      "Animal speaks\n",
      "Feeding milk\n",
      "Dog barks\n"
     ]
    }
   ],
   "source": [
    "class Animal:\n",
    "    def speak(self):\n",
    "        print(\"Animal speaks\")\n",
    "\n",
    "class Mammal(Animal):\n",
    "    def feed_milk(self):\n",
    "        print(\"Feeding milk\")\n",
    "\n",
    "class Dog(Mammal):\n",
    "    def bark(self):\n",
    "        print(\"Dog barks\")\n",
    "\n",
    "# Creating an instance of the Dog class\n",
    "my_dog = Dog()\n",
    "my_dog.speak()      # Inherited from Animal\n",
    "my_dog.feed_milk()  # Inherited from Mammal\n",
    "my_dog.bark()       # Defined in Dog\n"
   ]
  },
  {
   "cell_type": "code",
   "execution_count": null,
   "id": "8a120426-f35d-4110-8359-0b4fb9a16ae2",
   "metadata": {},
   "outputs": [],
   "source": []
  }
 ],
 "metadata": {
  "kernelspec": {
   "display_name": "Python 3 (ipykernel)",
   "language": "python",
   "name": "python3"
  },
  "language_info": {
   "codemirror_mode": {
    "name": "ipython",
    "version": 3
   },
   "file_extension": ".py",
   "mimetype": "text/x-python",
   "name": "python",
   "nbconvert_exporter": "python",
   "pygments_lexer": "ipython3",
   "version": "3.10.8"
  }
 },
 "nbformat": 4,
 "nbformat_minor": 5
}
